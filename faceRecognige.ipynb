{
 "cells": [
  {
   "cell_type": "code",
   "execution_count": null,
   "id": "7eaf905f",
   "metadata": {},
   "outputs": [],
   "source": [
    "import face_recognition\n",
    "import cv2\n",
    "import numpy as np\n",
    "\n",
    "def LoadFaces():\n",
    "    \n",
    "    bruno_image = face_recognition.load_image_file(\"C:\\\\Users\\\\Anchal\\\\Pictures\\\\Camera Roll\\\\abinash.png\")\n",
    "    bruno_face_encoding = face_recognition.face_encodings(bruno_image)[0]\n",
    "    valentino_image = face_recognition.load_image_file(\"C:\\\\Users\\\\Anchal\\\\Pictures\\\\Camera Roll\\\\anchal.png\")\n",
    "    valentino_face_encoding = face_recognition.face_encodings(valentino_image)[0]\n",
    "    known_face_encodings = [\n",
    "        bruno_face_encoding,\n",
    "        valentino_face_encoding\n",
    "        ]\n",
    "    known_face_names = [\n",
    "        \"Abinash\",\n",
    "        \"Anchal kr\"\n",
    "    ]\n",
    "\n",
    "    return known_face_encodings, known_face_names;\n",
    "\n",
    "video_capture = cv2.VideoCapture(0)\n",
    "\n",
    "known_face_encodings, known_face_names = LoadFaces()\n",
    "\n",
    "while True:\n",
    "    ret, frame = video_capture.read()\n",
    "    rgb_frame = frame[:, :, ::-1]\n",
    "\n",
    "    face_locations = face_recognition.face_locations(rgb_frame)\n",
    "    face_encodings = face_recognition.face_encodings(rgb_frame, face_locations)\n",
    "\n",
    "    for (top, right, bottom, left), face_encoding in zip(face_locations, face_encodings):\n",
    "        matches = face_recognition.compare_faces(known_face_encodings, face_encoding)\n",
    "        name = \"Unknown\"\n",
    "        face_distances = face_recognition.face_distance(known_face_encodings, face_encoding)\n",
    "        best_match_index = np.argmin(face_distances)\n",
    "        if matches[best_match_index]:\n",
    "            name = known_face_names[best_match_index]\n",
    "        cv2.rectangle(frame, (left, top), (right, bottom), (0, 0, 255), 2)\n",
    "        cv2.rectangle(frame, (left, bottom - 25), (right, bottom), (0, 0, 255), cv2.FILLED)\n",
    "        font = cv2.FONT_HERSHEY_COMPLEX_SMALL\n",
    "        cv2.putText(frame, name, (left + 6, bottom - 6), font, 0.7, (255, 255, 255), 1)\n",
    "    cv2.imshow('Video', frame)\n",
    "\n",
    "    if cv2.waitKey(1) & 0xFF == ord('q'):\n",
    "        break\n",
    "\n",
    "video_capture.release()\n",
    "cv2.destroyAllWindows()"
   ]
  },
  {
   "cell_type": "code",
   "execution_count": null,
   "id": "9be734d7",
   "metadata": {},
   "outputs": [],
   "source": []
  }
 ],
 "metadata": {
  "kernelspec": {
   "display_name": "Python 3 (ipykernel)",
   "language": "python",
   "name": "python3"
  },
  "language_info": {
   "codemirror_mode": {
    "name": "ipython",
    "version": 3
   },
   "file_extension": ".py",
   "mimetype": "text/x-python",
   "name": "python",
   "nbconvert_exporter": "python",
   "pygments_lexer": "ipython3",
   "version": "3.9.7"
  }
 },
 "nbformat": 4,
 "nbformat_minor": 5
}
